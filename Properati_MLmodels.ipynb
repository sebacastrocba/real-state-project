{
 "cells": [
  {
   "cell_type": "markdown",
   "id": "5243f6fa-3c8a-4ec1-afad-0ca17365c705",
   "metadata": {},
   "source": [
    "# Project: Valuing real estate properties using machine learning"
   ]
  },
  {
   "cell_type": "markdown",
   "id": "3c3ae821-a4ca-46b0-9011-6c38d650730d",
   "metadata": {},
   "source": [
    "## Part 2: From data preparation to modeling"
   ]
  },
  {
   "cell_type": "code",
   "execution_count": 129,
   "id": "589bf60b-b709-4b35-90b1-cbdd9550b792",
   "metadata": {},
   "outputs": [],
   "source": [
    "#Importings\n",
    "import pandas as pd\n",
    "import numpy as np\n",
    "import seaborn as sns\n",
    "import matplotlib.pyplot as plt\n",
    "from sklearn.model_selection import train_test_split\n",
    "from sklearn.preprocessing import StandardScaler\n",
    "from sklearn.linear_model import Lasso\n",
    "from sklearn.feature_selection import SelectFromModel\n",
    "from sklearn.ensemble import RandomForestRegressor\n",
    "from sklearn.model_selection import GridSearchCV, RandomizedSearchCV\n",
    "from sklearn.metrics import mean_squared_error\n",
    "from sklearn.model_selection import cross_val_score\n",
    "from sklearn.model_selection import RandomizedSearchCV\n",
    "from sklearn.preprocessing import PowerTransformer\n",
    "from sklearn.metrics import r2_score\n",
    "sns.set_style(\"whitegrid\")\n",
    "import warnings\n",
    "warnings.filterwarnings('ignore')\n",
    "%matplotlib inline"
   ]
  },
  {
   "cell_type": "code",
   "execution_count": 130,
   "id": "7fa618a8-a211-4822-845b-0963a180f757",
   "metadata": {},
   "outputs": [],
   "source": [
    "#Data loading\n",
    "data = pd.read_csv(\"Properaty_data_clean.csv\")"
   ]
  },
  {
   "cell_type": "code",
   "execution_count": 131,
   "id": "2f6c101e-5ab6-4cbb-8b15-8d0c6bb70017",
   "metadata": {},
   "outputs": [
    {
     "data": {
      "text/html": [
       "<div>\n",
       "<style scoped>\n",
       "    .dataframe tbody tr th:only-of-type {\n",
       "        vertical-align: middle;\n",
       "    }\n",
       "\n",
       "    .dataframe tbody tr th {\n",
       "        vertical-align: top;\n",
       "    }\n",
       "\n",
       "    .dataframe thead th {\n",
       "        text-align: right;\n",
       "    }\n",
       "</style>\n",
       "<table border=\"1\" class=\"dataframe\">\n",
       "  <thead>\n",
       "    <tr style=\"text-align: right;\">\n",
       "      <th></th>\n",
       "      <th>l2</th>\n",
       "      <th>rooms</th>\n",
       "      <th>bedrooms</th>\n",
       "      <th>bathrooms</th>\n",
       "      <th>surface_total</th>\n",
       "      <th>surface_covered</th>\n",
       "      <th>price</th>\n",
       "      <th>price_period</th>\n",
       "      <th>property_type</th>\n",
       "      <th>operation_type</th>\n",
       "    </tr>\n",
       "  </thead>\n",
       "  <tbody>\n",
       "    <tr>\n",
       "      <th>0</th>\n",
       "      <td>Buenos Aires</td>\n",
       "      <td>7.0</td>\n",
       "      <td>3.0</td>\n",
       "      <td>3.0</td>\n",
       "      <td>330.0</td>\n",
       "      <td>300.0</td>\n",
       "      <td>3000.0</td>\n",
       "      <td>Mensual</td>\n",
       "      <td>Casa</td>\n",
       "      <td>Alquiler</td>\n",
       "    </tr>\n",
       "    <tr>\n",
       "      <th>1</th>\n",
       "      <td>Buenos Aires</td>\n",
       "      <td>3.0</td>\n",
       "      <td>2.0</td>\n",
       "      <td>1.0</td>\n",
       "      <td>75.0</td>\n",
       "      <td>75.0</td>\n",
       "      <td>165000.0</td>\n",
       "      <td>Mensual</td>\n",
       "      <td>Otro</td>\n",
       "      <td>Venta</td>\n",
       "    </tr>\n",
       "    <tr>\n",
       "      <th>2</th>\n",
       "      <td>Capital Federal</td>\n",
       "      <td>1.0</td>\n",
       "      <td>2.0</td>\n",
       "      <td>3.0</td>\n",
       "      <td>265.0</td>\n",
       "      <td>265.0</td>\n",
       "      <td>600000.0</td>\n",
       "      <td>Mensual</td>\n",
       "      <td>Otro</td>\n",
       "      <td>Venta</td>\n",
       "    </tr>\n",
       "    <tr>\n",
       "      <th>3</th>\n",
       "      <td>Capital Federal</td>\n",
       "      <td>5.0</td>\n",
       "      <td>2.0</td>\n",
       "      <td>3.0</td>\n",
       "      <td>150.0</td>\n",
       "      <td>150.0</td>\n",
       "      <td>195000.0</td>\n",
       "      <td>Mensual</td>\n",
       "      <td>Otro</td>\n",
       "      <td>Venta</td>\n",
       "    </tr>\n",
       "    <tr>\n",
       "      <th>4</th>\n",
       "      <td>Capital Federal</td>\n",
       "      <td>1.0</td>\n",
       "      <td>2.0</td>\n",
       "      <td>1.0</td>\n",
       "      <td>80.0</td>\n",
       "      <td>80.0</td>\n",
       "      <td>155000.0</td>\n",
       "      <td>Mensual</td>\n",
       "      <td>Otro</td>\n",
       "      <td>Venta</td>\n",
       "    </tr>\n",
       "  </tbody>\n",
       "</table>\n",
       "</div>"
      ],
      "text/plain": [
       "                l2  rooms  bedrooms  bathrooms  surface_total  \\\n",
       "0     Buenos Aires    7.0       3.0        3.0          330.0   \n",
       "1     Buenos Aires    3.0       2.0        1.0           75.0   \n",
       "2  Capital Federal    1.0       2.0        3.0          265.0   \n",
       "3  Capital Federal    5.0       2.0        3.0          150.0   \n",
       "4  Capital Federal    1.0       2.0        1.0           80.0   \n",
       "\n",
       "   surface_covered     price price_period property_type operation_type  \n",
       "0            300.0    3000.0      Mensual          Casa       Alquiler  \n",
       "1             75.0  165000.0      Mensual          Otro          Venta  \n",
       "2            265.0  600000.0      Mensual          Otro          Venta  \n",
       "3            150.0  195000.0      Mensual          Otro          Venta  \n",
       "4             80.0  155000.0      Mensual          Otro          Venta  "
      ]
     },
     "execution_count": 131,
     "metadata": {},
     "output_type": "execute_result"
    }
   ],
   "source": [
    "data.head()"
   ]
  },
  {
   "cell_type": "code",
   "execution_count": 132,
   "id": "b7536205-79be-4167-862c-1d5c37b2622d",
   "metadata": {},
   "outputs": [
    {
     "data": {
      "text/plain": [
       "(97783, 10)"
      ]
     },
     "execution_count": 132,
     "metadata": {},
     "output_type": "execute_result"
    }
   ],
   "source": [
    "data.shape"
   ]
  },
  {
   "cell_type": "code",
   "execution_count": 133,
   "id": "978665f2-db27-4df9-9037-6bb00f03b0cb",
   "metadata": {},
   "outputs": [
    {
     "data": {
      "text/plain": [
       "l2                 0\n",
       "rooms              0\n",
       "bedrooms           0\n",
       "bathrooms          0\n",
       "surface_total      0\n",
       "surface_covered    0\n",
       "price              0\n",
       "price_period       0\n",
       "property_type      0\n",
       "operation_type     0\n",
       "dtype: int64"
      ]
     },
     "execution_count": 133,
     "metadata": {},
     "output_type": "execute_result"
    }
   ],
   "source": [
    "#Chech for NaN values:\n",
    "data.isna().sum()"
   ]
  },
  {
   "cell_type": "markdown",
   "id": "58417e56-70b1-4c91-a427-d5aba925fcab",
   "metadata": {},
   "source": [
    "### Data Preprocessing"
   ]
  },
  {
   "cell_type": "code",
   "execution_count": 134,
   "id": "4bf32707-243e-4bac-b711-d176f03c64c9",
   "metadata": {},
   "outputs": [],
   "source": [
    "X = data.drop(\"price\", axis=1)\n",
    "y = data.price"
   ]
  },
  {
   "cell_type": "code",
   "execution_count": 135,
   "id": "b163effa-25cb-4181-82c2-5f779bd8f459",
   "metadata": {},
   "outputs": [],
   "source": [
    "#Train test split\n",
    "X_train, X_test, y_train, y_test = train_test_split(data, y, test_size=0.3 , random_state=42) "
   ]
  },
  {
   "cell_type": "code",
   "execution_count": 136,
   "id": "f6548263",
   "metadata": {},
   "outputs": [
    {
     "data": {
      "text/plain": [
       "(68448,)"
      ]
     },
     "execution_count": 136,
     "metadata": {},
     "output_type": "execute_result"
    }
   ],
   "source": [
    "y_train.shape"
   ]
  },
  {
   "cell_type": "code",
   "execution_count": 137,
   "id": "775ea316",
   "metadata": {},
   "outputs": [
    {
     "data": {
      "text/plain": [
       "(29335,)"
      ]
     },
     "execution_count": 137,
     "metadata": {},
     "output_type": "execute_result"
    }
   ],
   "source": [
    "y_test.shape"
   ]
  },
  {
   "cell_type": "markdown",
   "id": "a5820bf0",
   "metadata": {},
   "source": [
    "### Categorical values encoding"
   ]
  },
  {
   "cell_type": "code",
   "execution_count": 138,
   "id": "089ba563",
   "metadata": {},
   "outputs": [],
   "source": [
    "import category_encoders as ce"
   ]
  },
  {
   "cell_type": "code",
   "execution_count": 139,
   "id": "39d0488a",
   "metadata": {},
   "outputs": [],
   "source": [
    "encoder = ce.CatBoostEncoder()"
   ]
  },
  {
   "cell_type": "code",
   "execution_count": 140,
   "id": "100aa2bf",
   "metadata": {},
   "outputs": [],
   "source": [
    "X_train_encoded = encoder.fit_transform(X_train, y_train)"
   ]
  },
  {
   "cell_type": "code",
   "execution_count": 141,
   "id": "4b337025",
   "metadata": {},
   "outputs": [
    {
     "data": {
      "text/html": [
       "<div>\n",
       "<style scoped>\n",
       "    .dataframe tbody tr th:only-of-type {\n",
       "        vertical-align: middle;\n",
       "    }\n",
       "\n",
       "    .dataframe tbody tr th {\n",
       "        vertical-align: top;\n",
       "    }\n",
       "\n",
       "    .dataframe thead th {\n",
       "        text-align: right;\n",
       "    }\n",
       "</style>\n",
       "<table border=\"1\" class=\"dataframe\">\n",
       "  <thead>\n",
       "    <tr style=\"text-align: right;\">\n",
       "      <th></th>\n",
       "      <th>l2</th>\n",
       "      <th>rooms</th>\n",
       "      <th>bedrooms</th>\n",
       "      <th>bathrooms</th>\n",
       "      <th>surface_total</th>\n",
       "      <th>surface_covered</th>\n",
       "      <th>price</th>\n",
       "      <th>price_period</th>\n",
       "      <th>property_type</th>\n",
       "      <th>operation_type</th>\n",
       "    </tr>\n",
       "  </thead>\n",
       "  <tbody>\n",
       "    <tr>\n",
       "      <th>71605</th>\n",
       "      <td>165263.681116</td>\n",
       "      <td>3.0</td>\n",
       "      <td>2.0</td>\n",
       "      <td>1.0</td>\n",
       "      <td>63.0</td>\n",
       "      <td>52.0</td>\n",
       "      <td>160000.0</td>\n",
       "      <td>165263.681116</td>\n",
       "      <td>165263.681116</td>\n",
       "      <td>165263.681116</td>\n",
       "    </tr>\n",
       "    <tr>\n",
       "      <th>71674</th>\n",
       "      <td>165263.681116</td>\n",
       "      <td>4.0</td>\n",
       "      <td>3.0</td>\n",
       "      <td>2.0</td>\n",
       "      <td>139.0</td>\n",
       "      <td>115.0</td>\n",
       "      <td>142000.0</td>\n",
       "      <td>162631.840558</td>\n",
       "      <td>165263.681116</td>\n",
       "      <td>162631.840558</td>\n",
       "    </tr>\n",
       "    <tr>\n",
       "      <th>15179</th>\n",
       "      <td>162631.840558</td>\n",
       "      <td>3.0</td>\n",
       "      <td>2.0</td>\n",
       "      <td>2.0</td>\n",
       "      <td>71.0</td>\n",
       "      <td>71.0</td>\n",
       "      <td>195000.0</td>\n",
       "      <td>155754.560372</td>\n",
       "      <td>162631.840558</td>\n",
       "      <td>155754.560372</td>\n",
       "    </tr>\n",
       "    <tr>\n",
       "      <th>36703</th>\n",
       "      <td>153631.840558</td>\n",
       "      <td>3.0</td>\n",
       "      <td>2.0</td>\n",
       "      <td>1.0</td>\n",
       "      <td>75.0</td>\n",
       "      <td>75.0</td>\n",
       "      <td>78000.0</td>\n",
       "      <td>165565.920279</td>\n",
       "      <td>153631.840558</td>\n",
       "      <td>165565.920279</td>\n",
       "    </tr>\n",
       "    <tr>\n",
       "      <th>9751</th>\n",
       "      <td>165263.681116</td>\n",
       "      <td>4.0</td>\n",
       "      <td>3.0</td>\n",
       "      <td>2.0</td>\n",
       "      <td>458.0</td>\n",
       "      <td>250.0</td>\n",
       "      <td>250000.0</td>\n",
       "      <td>148052.736223</td>\n",
       "      <td>128421.227039</td>\n",
       "      <td>148052.736223</td>\n",
       "    </tr>\n",
       "  </tbody>\n",
       "</table>\n",
       "</div>"
      ],
      "text/plain": [
       "                  l2  rooms  bedrooms  bathrooms  surface_total  \\\n",
       "71605  165263.681116    3.0       2.0        1.0           63.0   \n",
       "71674  165263.681116    4.0       3.0        2.0          139.0   \n",
       "15179  162631.840558    3.0       2.0        2.0           71.0   \n",
       "36703  153631.840558    3.0       2.0        1.0           75.0   \n",
       "9751   165263.681116    4.0       3.0        2.0          458.0   \n",
       "\n",
       "       surface_covered     price   price_period  property_type  operation_type  \n",
       "71605             52.0  160000.0  165263.681116  165263.681116   165263.681116  \n",
       "71674            115.0  142000.0  162631.840558  165263.681116   162631.840558  \n",
       "15179             71.0  195000.0  155754.560372  162631.840558   155754.560372  \n",
       "36703             75.0   78000.0  165565.920279  153631.840558   165565.920279  \n",
       "9751             250.0  250000.0  148052.736223  128421.227039   148052.736223  "
      ]
     },
     "execution_count": 141,
     "metadata": {},
     "output_type": "execute_result"
    }
   ],
   "source": [
    "X_train_encoded.head()"
   ]
  },
  {
   "cell_type": "code",
   "execution_count": 142,
   "id": "72caccbb",
   "metadata": {},
   "outputs": [],
   "source": [
    "X_test_encoded = encoder.transform(X_test, y_test)"
   ]
  },
  {
   "cell_type": "code",
   "execution_count": 143,
   "id": "5a2bdeea",
   "metadata": {},
   "outputs": [
    {
     "data": {
      "text/html": [
       "<div>\n",
       "<style scoped>\n",
       "    .dataframe tbody tr th:only-of-type {\n",
       "        vertical-align: middle;\n",
       "    }\n",
       "\n",
       "    .dataframe tbody tr th {\n",
       "        vertical-align: top;\n",
       "    }\n",
       "\n",
       "    .dataframe thead th {\n",
       "        text-align: right;\n",
       "    }\n",
       "</style>\n",
       "<table border=\"1\" class=\"dataframe\">\n",
       "  <thead>\n",
       "    <tr style=\"text-align: right;\">\n",
       "      <th></th>\n",
       "      <th>l2</th>\n",
       "      <th>rooms</th>\n",
       "      <th>bedrooms</th>\n",
       "      <th>bathrooms</th>\n",
       "      <th>surface_total</th>\n",
       "      <th>surface_covered</th>\n",
       "      <th>price</th>\n",
       "      <th>price_period</th>\n",
       "      <th>property_type</th>\n",
       "      <th>operation_type</th>\n",
       "    </tr>\n",
       "  </thead>\n",
       "  <tbody>\n",
       "    <tr>\n",
       "      <th>13813</th>\n",
       "      <td>165263.681116</td>\n",
       "      <td>1.0</td>\n",
       "      <td>1.0</td>\n",
       "      <td>1.0</td>\n",
       "      <td>35.0</td>\n",
       "      <td>35.0</td>\n",
       "      <td>94000.0</td>\n",
       "      <td>165263.681116</td>\n",
       "      <td>165263.681116</td>\n",
       "      <td>165263.681116</td>\n",
       "    </tr>\n",
       "    <tr>\n",
       "      <th>85572</th>\n",
       "      <td>129631.840558</td>\n",
       "      <td>2.0</td>\n",
       "      <td>1.0</td>\n",
       "      <td>1.0</td>\n",
       "      <td>55.0</td>\n",
       "      <td>55.0</td>\n",
       "      <td>100000.0</td>\n",
       "      <td>129631.840558</td>\n",
       "      <td>129631.840558</td>\n",
       "      <td>129631.840558</td>\n",
       "    </tr>\n",
       "    <tr>\n",
       "      <th>20807</th>\n",
       "      <td>119754.560372</td>\n",
       "      <td>4.0</td>\n",
       "      <td>3.0</td>\n",
       "      <td>2.0</td>\n",
       "      <td>111.0</td>\n",
       "      <td>107.0</td>\n",
       "      <td>248000.0</td>\n",
       "      <td>119754.560372</td>\n",
       "      <td>165263.681116</td>\n",
       "      <td>119754.560372</td>\n",
       "    </tr>\n",
       "    <tr>\n",
       "      <th>92766</th>\n",
       "      <td>151815.920279</td>\n",
       "      <td>2.0</td>\n",
       "      <td>1.0</td>\n",
       "      <td>1.0</td>\n",
       "      <td>50.0</td>\n",
       "      <td>48.0</td>\n",
       "      <td>150000.0</td>\n",
       "      <td>151815.920279</td>\n",
       "      <td>119754.560372</td>\n",
       "      <td>151815.920279</td>\n",
       "    </tr>\n",
       "    <tr>\n",
       "      <th>80069</th>\n",
       "      <td>151452.736223</td>\n",
       "      <td>1.0</td>\n",
       "      <td>1.0</td>\n",
       "      <td>1.0</td>\n",
       "      <td>27.0</td>\n",
       "      <td>25.0</td>\n",
       "      <td>75000.0</td>\n",
       "      <td>151452.736223</td>\n",
       "      <td>127315.920279</td>\n",
       "      <td>151452.736223</td>\n",
       "    </tr>\n",
       "  </tbody>\n",
       "</table>\n",
       "</div>"
      ],
      "text/plain": [
       "                  l2  rooms  bedrooms  bathrooms  surface_total  \\\n",
       "13813  165263.681116    1.0       1.0        1.0           35.0   \n",
       "85572  129631.840558    2.0       1.0        1.0           55.0   \n",
       "20807  119754.560372    4.0       3.0        2.0          111.0   \n",
       "92766  151815.920279    2.0       1.0        1.0           50.0   \n",
       "80069  151452.736223    1.0       1.0        1.0           27.0   \n",
       "\n",
       "       surface_covered     price   price_period  property_type  operation_type  \n",
       "13813             35.0   94000.0  165263.681116  165263.681116   165263.681116  \n",
       "85572             55.0  100000.0  129631.840558  129631.840558   129631.840558  \n",
       "20807            107.0  248000.0  119754.560372  165263.681116   119754.560372  \n",
       "92766             48.0  150000.0  151815.920279  119754.560372   151815.920279  \n",
       "80069             25.0   75000.0  151452.736223  127315.920279   151452.736223  "
      ]
     },
     "execution_count": 143,
     "metadata": {},
     "output_type": "execute_result"
    }
   ],
   "source": [
    "X_test_encoded.head()"
   ]
  },
  {
   "cell_type": "code",
   "execution_count": 144,
   "id": "b3677ebd",
   "metadata": {},
   "outputs": [
    {
     "data": {
      "image/png": "[encoded data removed]",
      "text/plain": [
       "<Figure size 360x360 with 1 Axes>"
      ]
     },
     "metadata": {
      "needs_background": "light"
     },
     "output_type": "display_data"
    },
    {
     "data": {
      "image/png": "[encoded data removed]",
      "text/plain": [
       "<Figure size 360x360 with 1 Axes>"
      ]
     },
     "metadata": {
      "needs_background": "light"
     },
     "output_type": "display_data"
    },
    {
     "data": {
      "image/png": "[encoded data removed]",
      "text/plain": [
       "<Figure size 360x360 with 1 Axes>"
      ]
     },
     "metadata": {
      "needs_background": "light"
     },
     "output_type": "display_data"
    },
    {
     "data": {
      "image/png": "[encoded data removed]",
      "text/plain": [
       "<Figure size 360x360 with 1 Axes>"
      ]
     },
     "metadata": {
      "needs_background": "light"
     },
     "output_type": "display_data"
    },
    {
     "data": {
      "image/png": "[encoded data removed]",
      "text/plain": [
       "<Figure size 360x360 with 1 Axes>"
      ]
     },
     "metadata": {
      "needs_background": "light"
     },
     "output_type": "display_data"
    }
   ],
   "source": [
    "#Are ther non-gaussian variables?\n",
    "\n",
    "variables = [\"rooms\", \"bedrooms\", \"bathrooms\", \"surface_total\", \"surface_covered\"]\n",
    "\n",
    "for var in variables:\n",
    "    sns.displot(data=data, x=var)"
   ]
  },
  {
   "cell_type": "code",
   "execution_count": 145,
   "id": "749547c5",
   "metadata": {},
   "outputs": [],
   "source": [
    "non_gaussian_vars = [\"surface_total\", \"surface_covered\"]\n",
    "\n",
    "for var in non_gaussian_vars:\n",
    "    X_train_encoded[var] = np.log(X_train_encoded[var])\n",
    "    X_test_encoded[var] = np.log(X_test_encoded[var])"
   ]
  },
  {
   "cell_type": "code",
   "execution_count": 146,
   "id": "fa0caff5",
   "metadata": {},
   "outputs": [
    {
     "data": {
      "image/png": "[encoded data removed]",
      "text/plain": [
       "<Figure size 360x360 with 1 Axes>"
      ]
     },
     "metadata": {
      "needs_background": "light"
     },
     "output_type": "display_data"
    },
    {
     "data": {
      "image/png": "[encoded data removed]",
      "text/plain": [
       "<Figure size 360x360 with 1 Axes>"
      ]
     },
     "metadata": {
      "needs_background": "light"
     },
     "output_type": "display_data"
    }
   ],
   "source": [
    "for var in non_gaussian_vars:\n",
    "    sns.displot(data=X_train_encoded, x=var)"
   ]
  },
  {
   "cell_type": "markdown",
   "id": "e1091195",
   "metadata": {},
   "source": [
    "### Feature scaling"
   ]
  },
  {
   "cell_type": "code",
   "execution_count": 147,
   "id": "5f328346",
   "metadata": {},
   "outputs": [],
   "source": [
    "train_vars = [var for var in X_train_encoded.columns if var not in [\"price\"]]"
   ]
  },
  {
   "cell_type": "code",
   "execution_count": 148,
   "id": "69d692e4",
   "metadata": {},
   "outputs": [],
   "source": [
    "scaler = StandardScaler()"
   ]
  },
  {
   "cell_type": "code",
   "execution_count": 149,
   "id": "1c5ec2a9",
   "metadata": {},
   "outputs": [],
   "source": [
    "X_train_scaled = pd.DataFrame(scaler.fit_transform(X_train_encoded[train_vars]), columns=X_train_encoded[train_vars].columns.tolist())"
   ]
  },
  {
   "cell_type": "code",
   "execution_count": 150,
   "id": "1040e012",
   "metadata": {},
   "outputs": [],
   "source": [
    "X_test_scaled = scaler.transform(X_test_encoded[train_vars])"
   ]
  },
  {
   "cell_type": "markdown",
   "id": "c1c4c610",
   "metadata": {},
   "source": [
    "### Feature selection"
   ]
  },
  {
   "cell_type": "code",
   "execution_count": 151,
   "id": "999d5aaf",
   "metadata": {},
   "outputs": [
    {
     "data": {
      "text/plain": [
       "SelectFromModel(estimator=Lasso(alpha=0.005, random_state=42))"
      ]
     },
     "execution_count": 151,
     "metadata": {},
     "output_type": "execute_result"
    }
   ],
   "source": [
    "sel_ = SelectFromModel(Lasso(alpha=0.005, random_state=42))\n",
    "sel_.fit(X_train_scaled, y_train)"
   ]
  },
  {
   "cell_type": "code",
   "execution_count": 152,
   "id": "22a06e61",
   "metadata": {},
   "outputs": [],
   "source": [
    "selected_features = X_train_scaled.columns[(sel_.get_support())]"
   ]
  },
  {
   "cell_type": "code",
   "execution_count": 153,
   "id": "acb5f637",
   "metadata": {},
   "outputs": [
    {
     "name": "stdout",
     "output_type": "stream",
     "text": [
      "Total features: 9\n",
      "selected features: 9\n",
      "features with coefficients shrank to zero: 0\n"
     ]
    }
   ],
   "source": [
    "print('Total features: {}'.format((X_train_scaled.shape[1])))\n",
    "print('selected features: {}'.format(len(selected_features)))\n",
    "print('features with coefficients shrank to zero: {}'.format(np.sum(sel_.estimator_.coef_== 0)))"
   ]
  },
  {
   "cell_type": "code",
   "execution_count": 154,
   "id": "b3c95d1b",
   "metadata": {},
   "outputs": [
    {
     "data": {
      "text/plain": [
       "Index(['l2', 'rooms', 'bedrooms', 'bathrooms', 'surface_total',\n",
       "       'surface_covered', 'price_period', 'property_type', 'operation_type'],\n",
       "      dtype='object')"
      ]
     },
     "execution_count": 154,
     "metadata": {},
     "output_type": "execute_result"
    }
   ],
   "source": [
    "selected_features"
   ]
  },
  {
   "cell_type": "markdown",
   "id": "2ef34e81-9ed2-4a24-8430-b76fa46a93d1",
   "metadata": {},
   "source": [
    "## Target distribution"
   ]
  },
  {
   "cell_type": "code",
   "execution_count": 155,
   "id": "e5858e33-139e-4d24-bdff-76f5a1e984e5",
   "metadata": {},
   "outputs": [
    {
     "data": {
      "text/plain": [
       "71605    160000.0\n",
       "71674    142000.0\n",
       "15179    195000.0\n",
       "36703     78000.0\n",
       "9751     250000.0\n",
       "           ...   \n",
       "6265      96000.0\n",
       "54886    250000.0\n",
       "76820     90000.0\n",
       "860       60000.0\n",
       "15795     43000.0\n",
       "Name: price, Length: 68448, dtype: float64"
      ]
     },
     "execution_count": 155,
     "metadata": {},
     "output_type": "execute_result"
    }
   ],
   "source": [
    "y_train"
   ]
  },
  {
   "cell_type": "code",
   "execution_count": 156,
   "id": "1eefc269-9244-4c4b-9ec3-cb89cb1e4b57",
   "metadata": {},
   "outputs": [],
   "source": [
    "pt = PowerTransformer(method='yeo-johnson')\n",
    "y_train_trans = pt.fit_transform(y_train.values.reshape(-1,1))"
   ]
  },
  {
   "cell_type": "code",
   "execution_count": 157,
   "id": "196186ec-72d2-43ac-b937-10500b1d962f",
   "metadata": {},
   "outputs": [
    {
     "data": {
      "text/plain": [
       "array([[<AxesSubplot:title={'center':'0'}>]], dtype=object)"
      ]
     },
     "execution_count": 157,
     "metadata": {},
     "output_type": "execute_result"
    },
    {
     "data": {
      "image/png": "[encoded data removed]",
      "text/plain": [
       "<Figure size 432x288 with 1 Axes>"
      ]
     },
     "metadata": {
      "needs_background": "light"
     },
     "output_type": "display_data"
    }
   ],
   "source": [
    "pd.DataFrame(y_train_trans).hist()"
   ]
  },
  {
   "cell_type": "code",
   "execution_count": 158,
   "id": "c64ca514-29ca-4f0f-8488-2d29978c7f00",
   "metadata": {},
   "outputs": [],
   "source": [
    "y_test_trans = pt.transform(y_test.values.reshape(-1,1))"
   ]
  },
  {
   "cell_type": "markdown",
   "id": "c819789c",
   "metadata": {},
   "source": [
    "### Building models"
   ]
  },
  {
   "cell_type": "markdown",
   "id": "8c149ffd-88f1-425b-af24-9a71c75a7e7f",
   "metadata": {},
   "source": [
    "### Random Forest "
   ]
  },
  {
   "cell_type": "code",
   "execution_count": 34,
   "id": "80deae94",
   "metadata": {},
   "outputs": [],
   "source": [
    "RF_model = RandomForestRegressor(random_state=42)"
   ]
  },
  {
   "cell_type": "code",
   "execution_count": 89,
   "id": "526df5b1",
   "metadata": {},
   "outputs": [],
   "source": [
    "param_grid = {\"n_estimators\": [10,20,40,60,70,100,400],\n",
    "               \"max_depth\": [50,100,150,200,450,750,1000],\n",
    "               \"max_features\": [\"auto\", \"sqrt\", \"log2\"],\n",
    "               \"bootstrap\": [True, False]}"
   ]
  },
  {
   "cell_type": "code",
   "execution_count": 90,
   "id": "27bc5f0c",
   "metadata": {},
   "outputs": [],
   "source": [
    "RF_grid = GridSearchCV(estimator=RF_model, param_grid=param_grid, cv=10, n_jobs=-1,  scoring=\"neg_mean_squared_error\") "
   ]
  },
  {
   "cell_type": "code",
   "execution_count": 91,
   "id": "14e62d16-8363-43ef-841e-ee09d1ff69fb",
   "metadata": {},
   "outputs": [
    {
     "data": {
      "text/plain": [
       "GridSearchCV(cv=10, estimator=RandomForestRegressor(random_state=42), n_jobs=-1,\n",
       "             param_grid={'bootstrap': [True, False],\n",
       "                         'max_depth': [50, 100, 150, 200, 450, 750, 1000],\n",
       "                         'max_features': ['auto', 'sqrt', 'log2'],\n",
       "                         'n_estimators': [10, 20, 40, 60, 70, 100, 400]},\n",
       "             scoring='neg_mean_squared_error')"
      ]
     },
     "execution_count": 91,
     "metadata": {},
     "output_type": "execute_result"
    }
   ],
   "source": [
    "RF_grid.fit(X_train_scaled, y_train_trans)"
   ]
  },
  {
   "cell_type": "code",
   "execution_count": 92,
   "id": "53f49cf9-a075-4597-9326-f79f2d3440b8",
   "metadata": {},
   "outputs": [
    {
     "data": {
      "text/plain": [
       "['RF_gs_properati.joblib']"
      ]
     },
     "execution_count": 92,
     "metadata": {},
     "output_type": "execute_result"
    }
   ],
   "source": [
    "from joblib import dump, load\n",
    "dump(RF_grid, 'RF_gs_properati.joblib')"
   ]
  },
  {
   "cell_type": "code",
   "execution_count": 94,
   "id": "45a56855-acf3-4522-b727-a5187e4c53e5",
   "metadata": {},
   "outputs": [
    {
     "data": {
      "text/plain": [
       "{'bootstrap': True,\n",
       " 'max_depth': 50,\n",
       " 'max_features': 'sqrt',\n",
       " 'n_estimators': 400}"
      ]
     },
     "execution_count": 94,
     "metadata": {},
     "output_type": "execute_result"
    }
   ],
   "source": [
    "RF_grid.best_params_"
   ]
  },
  {
   "cell_type": "code",
   "execution_count": 95,
   "id": "2123c995-40f1-402e-9b67-cca40b8e7bcc",
   "metadata": {},
   "outputs": [],
   "source": [
    "y_test_pred_rf = RF_grid.predict(X_test_scaled)\n",
    "y_train_pred_rf = RF_grid.predict(X_train_scaled)"
   ]
  },
  {
   "cell_type": "code",
   "execution_count": 99,
   "id": "df9d3844-34c8-4ba7-b9f6-ad1928a0431e",
   "metadata": {},
   "outputs": [],
   "source": [
    "### CALCULAMOS EL ERROR\n",
    "rmse_train_rf = np.sqrt(mean_squared_error(y_train_trans, y_train_pred_rf))\n",
    "rmse_test_rf = np.sqrt(mean_squared_error(y_test_trans, y_test_pred_rf))"
   ]
  },
  {
   "cell_type": "code",
   "execution_count": 100,
   "id": "17d32bcd-875f-4208-8df7-10a27a6d312a",
   "metadata": {},
   "outputs": [
    {
     "name": "stdout",
     "output_type": "stream",
     "text": [
      "Raíz del error cuadrático medio en Train: 0.29539147597283855\n",
      "Raíz del error cuadrático medio en Test: 0.8316931962753735\n",
      "R2: 0.31358321085787844\n"
     ]
    }
   ],
   "source": [
    "print(f'Raíz del error cuadrático medio en Train: {rmse_train_rf}')\n",
    "print(f'Raíz del error cuadrático medio en Test: {rmse_test_rf}')\n",
    "r2_rf = r2_score(y_test_trans, y_test_pred_rf)\n",
    "print('R2:' ,r2_rf)"
   ]
  },
  {
   "cell_type": "code",
   "execution_count": null,
   "id": "de04db92",
   "metadata": {},
   "outputs": [],
   "source": [
    "### Using gpu\n"
   ]
  },
  {
   "cell_type": "markdown",
   "id": "e6191e5e-a493-4a3a-b91b-56fd163794ec",
   "metadata": {},
   "source": [
    "### Extra Tree Regressor"
   ]
  },
  {
   "cell_type": "code",
   "execution_count": 35,
   "id": "35fac390-68e0-4cd4-b6c3-0fd565918657",
   "metadata": {},
   "outputs": [
    {
     "data": {
      "text/plain": [
       "(67139, 8)"
      ]
     },
     "execution_count": 35,
     "metadata": {},
     "output_type": "execute_result"
    }
   ],
   "source": [
    "X_train_scaled.shape"
   ]
  },
  {
   "cell_type": "code",
   "execution_count": 36,
   "id": "b794e10e-690d-4815-aecf-c619c02264b8",
   "metadata": {},
   "outputs": [],
   "source": [
    "from sklearn.ensemble import ExtraTreesRegressor"
   ]
  },
  {
   "cell_type": "code",
   "execution_count": 37,
   "id": "82494b7a-fa88-4bbf-8d79-4016c268d922",
   "metadata": {},
   "outputs": [],
   "source": [
    "et = ExtraTreesRegressor(random_state=42)"
   ]
  },
  {
   "cell_type": "code",
   "execution_count": 38,
   "id": "4875b41e-4d8c-4599-80ba-4304df3c9be7",
   "metadata": {},
   "outputs": [],
   "source": [
    "param_grid_et = {\n",
    "    \"n_estimators\" : [5, 10, 50, 100, 500, 1000, 5000],\n",
    "    \"max_features\" : [x for x in range(1, 9)],\n",
    "    \"min_samples_split\" : [x for x in range(2,15)],\n",
    "    \"bootstrap\" : [True, False]\n",
    "    \n",
    "}"
   ]
  },
  {
   "cell_type": "code",
   "execution_count": 43,
   "id": "7f8482a2-1482-4c14-8f7a-f0788970a59e",
   "metadata": {},
   "outputs": [],
   "source": [
    "et_grid = RandomizedSearchCV(estimator=et,param_distributions=param_grid_et, cv=10, n_jobs=-1,  scoring=\"neg_mean_squared_error\" )"
   ]
  },
  {
   "cell_type": "code",
   "execution_count": 44,
   "id": "1a43db2e-476b-4fb0-9024-9d79540e3956",
   "metadata": {},
   "outputs": [
    {
     "data": {
      "text/plain": [
       "RandomizedSearchCV(cv=10, estimator=ExtraTreesRegressor(random_state=42),\n",
       "                   n_jobs=-1,\n",
       "                   param_distributions={'bootstrap': [True, False],\n",
       "                                        'max_features': [1, 2, 3, 4, 5, 6, 7,\n",
       "                                                         8],\n",
       "                                        'min_samples_split': [2, 3, 4, 5, 6, 7,\n",
       "                                                              8, 9, 10, 11, 12,\n",
       "                                                              13, 14],\n",
       "                                        'n_estimators': [5, 10, 50, 100, 500,\n",
       "                                                         1000, 5000]},\n",
       "                   scoring='neg_mean_squared_error')"
      ]
     },
     "execution_count": 44,
     "metadata": {},
     "output_type": "execute_result"
    }
   ],
   "source": [
    "et_grid.fit(X_train_scaled, y_train_trans)"
   ]
  },
  {
   "cell_type": "code",
   "execution_count": 45,
   "id": "d2d4d6ff-7b8a-4db9-86d9-f22fe7c47ede",
   "metadata": {},
   "outputs": [
    {
     "data": {
      "text/plain": [
       "{'n_estimators': 5000,\n",
       " 'min_samples_split': 10,\n",
       " 'max_features': 7,\n",
       " 'bootstrap': True}"
      ]
     },
     "execution_count": 45,
     "metadata": {},
     "output_type": "execute_result"
    }
   ],
   "source": [
    "et_grid.best_params_"
   ]
  },
  {
   "cell_type": "code",
   "execution_count": 46,
   "id": "34993a97-a3bf-4c6c-b640-b87e7d662371",
   "metadata": {},
   "outputs": [],
   "source": [
    "y_test_pred_et = et_grid.predict(X_test_scaled)\n",
    "y_train_pred_et = et_grid.predict(X_train_scaled)"
   ]
  },
  {
   "cell_type": "code",
   "execution_count": 47,
   "id": "87e88c7d",
   "metadata": {},
   "outputs": [],
   "source": [
    "### CALCULAMOS EL ERROR\n",
    "rmse_train_et = np.sqrt(mean_squared_error(y_train_trans, y_train_pred_et))\n",
    "rmse_test_et = np.sqrt(mean_squared_error(y_test_trans, y_test_pred_et))"
   ]
  },
  {
   "cell_type": "code",
   "execution_count": 48,
   "id": "1b4eac86",
   "metadata": {},
   "outputs": [
    {
     "name": "stdout",
     "output_type": "stream",
     "text": [
      "Raíz del error cuadrático medio en Train: 0.5993518669423352\n",
      "Raíz del error cuadrático medio en Test: 0.8166110861502474\n",
      "R2: 0.33825275330014126\n"
     ]
    }
   ],
   "source": [
    "print(f'Raíz del error cuadrático medio en Train: {rmse_train_et}')\n",
    "print(f'Raíz del error cuadrático medio en Test: {rmse_test_et}')\n",
    "r2_et = r2_score(y_test_trans, y_test_pred_et)\n",
    "print('R2:' ,r2_et)"
   ]
  },
  {
   "cell_type": "markdown",
   "id": "0f1d9009",
   "metadata": {},
   "source": [
    "## LightGBM"
   ]
  },
  {
   "cell_type": "code",
   "execution_count": 159,
   "id": "f9b543ff",
   "metadata": {},
   "outputs": [],
   "source": [
    "import lightgbm as lgb"
   ]
  },
  {
   "cell_type": "code",
   "execution_count": 160,
   "id": "a1172a06",
   "metadata": {},
   "outputs": [],
   "source": [
    "params = {\n",
    "    \"num_leaves\" : [5,10,20,30, 40],\n",
    "    \"feature_fraction\" : [0.0001, 0.001, 0.01, 0.1, 1.0],\n",
    "    \"max_depth\" : [int(x) for x in range(1,11)],\n",
    "    \"min_data_in_leaf\" : [5, 10, 15, 20, 25],\n",
    "    \"min_sum_hessian_in_leaf\" : [10,20,30,40,50],\n",
    "    \"learning_rate\" : [0.0001, 0.001, 0.01, 1.0],\n",
    "    \"n_estimators\" : [10, 50, 100, 500, 1000, 5000],\n",
    "    \n",
    "}\n"
   ]
  },
  {
   "cell_type": "code",
   "execution_count": 161,
   "id": "65af4314",
   "metadata": {},
   "outputs": [],
   "source": [
    "model = lgb.LGBMRegressor(random_state=42, silent=True, extra_trees=True)"
   ]
  },
  {
   "cell_type": "code",
   "execution_count": 162,
   "id": "067385be",
   "metadata": {},
   "outputs": [],
   "source": [
    "lgbm_rs = RandomizedSearchCV(estimator=model, param_distributions=params, cv=10, n_jobs=-1, scoring=\"neg_mean_squared_error\")"
   ]
  },
  {
   "cell_type": "code",
   "execution_count": 163,
   "id": "d192c6fd",
   "metadata": {},
   "outputs": [
    {
     "name": "stdout",
     "output_type": "stream",
     "text": [
      "[LightGBM] [Warning] feature_fraction is set=0.01, colsample_bytree=1.0 will be ignored. Current value: feature_fraction=0.01\n",
      "[LightGBM] [Warning] min_data_in_leaf is set=15, min_child_samples=20 will be ignored. Current value: min_data_in_leaf=15\n",
      "[LightGBM] [Warning] min_sum_hessian_in_leaf is set=50, min_child_weight=0.001 will be ignored. Current value: min_sum_hessian_in_leaf=50\n"
     ]
    },
    {
     "data": {
      "text/plain": [
       "RandomizedSearchCV(cv=10,\n",
       "                   estimator=LGBMRegressor(extra_trees=True, random_state=42),\n",
       "                   n_jobs=-1,\n",
       "                   param_distributions={'feature_fraction': [0.0001, 0.001,\n",
       "                                                             0.01, 0.1, 1.0],\n",
       "                                        'learning_rate': [0.0001, 0.001, 0.01,\n",
       "                                                          1.0],\n",
       "                                        'max_depth': [1, 2, 3, 4, 5, 6, 7, 8, 9,\n",
       "                                                      10],\n",
       "                                        'min_data_in_leaf': [5, 10, 15, 20, 25],\n",
       "                                        'min_sum_hessian_in_leaf': [10, 20, 30,\n",
       "                                                                    40, 50],\n",
       "                                        'n_estimators': [10, 50, 100, 500, 1000,\n",
       "                                                         5000],\n",
       "                                        'num_leaves': [5, 10, 20, 30, 40]},\n",
       "                   scoring='neg_mean_squared_error')"
      ]
     },
     "execution_count": 163,
     "metadata": {},
     "output_type": "execute_result"
    }
   ],
   "source": [
    "lgbm_rs.fit(X_train_scaled, y_train_trans)"
   ]
  },
  {
   "cell_type": "code",
   "execution_count": 164,
   "id": "20b45441",
   "metadata": {},
   "outputs": [
    {
     "data": {
      "text/plain": [
       "{'num_leaves': 20,\n",
       " 'n_estimators': 1000,\n",
       " 'min_sum_hessian_in_leaf': 50,\n",
       " 'min_data_in_leaf': 15,\n",
       " 'max_depth': 8,\n",
       " 'learning_rate': 1.0,\n",
       " 'feature_fraction': 0.01}"
      ]
     },
     "execution_count": 164,
     "metadata": {},
     "output_type": "execute_result"
    }
   ],
   "source": [
    "lgbm_rs.best_params_"
   ]
  },
  {
   "cell_type": "code",
   "execution_count": 165,
   "id": "4b7ccab8",
   "metadata": {},
   "outputs": [],
   "source": [
    "y_test_pred_lgbm = lgbm_rs.predict(X_test_scaled)\n",
    "y_train_pred_lgbm = lgbm_rs.predict(X_train_scaled)"
   ]
  },
  {
   "cell_type": "code",
   "execution_count": 166,
   "id": "5a34afe6",
   "metadata": {},
   "outputs": [],
   "source": [
    "### CALCULAMOS EL ERROR\n",
    "rmse_train_lgbm = np.sqrt(mean_squared_error(y_train_trans, y_train_pred_lgbm))\n",
    "rmse_test_lgbm = np.sqrt(mean_squared_error(y_test_trans, y_test_pred_lgbm))"
   ]
  },
  {
   "cell_type": "code",
   "execution_count": 167,
   "id": "37a2f9dd",
   "metadata": {},
   "outputs": [
    {
     "name": "stdout",
     "output_type": "stream",
     "text": [
      "Raíz del error cuadrático medio en Train: 0.8810149774890936\n",
      "Raíz del error cuadrático medio en Test: 0.9028656500025575\n",
      "R2: 0.19632881708302496\n"
     ]
    }
   ],
   "source": [
    "print(f'Raíz del error cuadrático medio en Train: {rmse_train_lgbm}')\n",
    "print(f'Raíz del error cuadrático medio en Test: {rmse_test_lgbm}')\n",
    "r2_lgbm = r2_score(y_test_trans, y_test_pred_lgbm)\n",
    "print('R2:' ,r2_lgbm)"
   ]
  },
  {
   "cell_type": "code",
   "execution_count": 168,
   "id": "5617c84d-c708-4537-8622-f76fadf894f8",
   "metadata": {},
   "outputs": [
    {
     "data": {
      "text/plain": [
       "False"
      ]
     },
     "execution_count": 168,
     "metadata": {},
     "output_type": "execute_result"
    }
   ],
   "source": [
    "np.any(np.isnan(y_test_pred_lgbm))"
   ]
  },
  {
   "cell_type": "code",
   "execution_count": 170,
   "id": "6365ae99-97f7-4d1b-8c88-46d76de72c7d",
   "metadata": {},
   "outputs": [],
   "source": [
    "y_test_pred_lgbm_inv = pt.inverse_transform(y_test_pred_lgbm.reshape(-1,1))\n",
    "y_test_inv = pt.inverse_transform(y_test_trans)"
   ]
  },
  {
   "cell_type": "code",
   "execution_count": 171,
   "id": "e14fbadd-506d-4d12-ac68-3508266852fb",
   "metadata": {},
   "outputs": [
    {
     "data": {
      "text/plain": [
       "False"
      ]
     },
     "execution_count": 171,
     "metadata": {},
     "output_type": "execute_result"
    }
   ],
   "source": [
    "np.any(np.isnan(y_test_pred_lgbm_inv))"
   ]
  },
  {
   "cell_type": "code",
   "execution_count": 172,
   "id": "a50ce9be-bc1e-4d0b-960c-ff26a15fe940",
   "metadata": {},
   "outputs": [
    {
     "data": {
      "text/plain": [
       "True"
      ]
     },
     "execution_count": 172,
     "metadata": {},
     "output_type": "execute_result"
    }
   ],
   "source": [
    "np.all(np.isfinite(y_test_pred_lgbm_inv))"
   ]
  },
  {
   "cell_type": "code",
   "execution_count": 173,
   "id": "e4d4d00d-dc31-4a89-bf84-23d29677bef3",
   "metadata": {},
   "outputs": [],
   "source": [
    "rmse_test_lgbm = np.sqrt(mean_squared_error(y_test_inv, y_test_pred_lgbm_inv))"
   ]
  },
  {
   "cell_type": "code",
   "execution_count": 174,
   "id": "ce6223ba-0ab5-4e04-9eba-a1158f7cc1ea",
   "metadata": {},
   "outputs": [
    {
     "data": {
      "text/plain": [
       "106183.31389280426"
      ]
     },
     "execution_count": 174,
     "metadata": {},
     "output_type": "execute_result"
    }
   ],
   "source": [
    "rmse_test_lgbm"
   ]
  },
  {
   "cell_type": "code",
   "execution_count": 175,
   "id": "2b209836-7a6c-4901-9de3-afadc55f93f8",
   "metadata": {},
   "outputs": [
    {
     "data": {
      "text/plain": [
       "0.2566667879644574"
      ]
     },
     "execution_count": 175,
     "metadata": {},
     "output_type": "execute_result"
    }
   ],
   "source": [
    "r2_lgbm = r2_score(y_test_inv, y_test_pred_lgbm_inv)\n",
    "r2_lgbm"
   ]
  },
  {
   "cell_type": "code",
   "execution_count": null,
   "id": "6f34e223-ce30-4f5e-90d1-3f5e3b4623f2",
   "metadata": {},
   "outputs": [],
   "source": []
  }
 ],
 "metadata": {
  "kernelspec": {
   "display_name": "Python 3",
   "language": "python",
   "name": "python3"
  },
  "language_info": {
   "codemirror_mode": {
    "name": "ipython",
    "version": 3
   },
   "file_extension": ".py",
   "mimetype": "text/x-python",
   "name": "python",
   "nbconvert_exporter": "python",
   "pygments_lexer": "ipython3",
   "version": "3.9.5"
  }
 },
 "nbformat": 4,
 "nbformat_minor": 5
}
